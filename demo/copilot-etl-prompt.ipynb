{
 "cells": [
  {
   "cell_type": "code",
   "execution_count": 1,
   "metadata": {},
   "outputs": [
    {
     "name": "stdout",
     "output_type": "stream",
     "text": [
      "   Time        V1        V2        V3        V4        V5        V6        V7  \\\n",
      "0   0.0 -1.359807 -0.072781  2.536347  1.378155 -0.338321  0.462388  0.239599   \n",
      "1   0.0  1.191857  0.266151  0.166480  0.448154  0.060018 -0.082361 -0.078803   \n",
      "2   1.0 -1.358354 -1.340163  1.773209  0.379780 -0.503198  1.800499  0.791461   \n",
      "3   1.0 -0.966272 -0.185226  1.792993 -0.863291 -0.010309  1.247203  0.237609   \n",
      "4   2.0 -1.158233  0.877737  1.548718  0.403034 -0.407193  0.095921  0.592941   \n",
      "\n",
      "         V8        V9  ...       V21       V22       V23       V24       V25  \\\n",
      "0  0.098698  0.363787  ... -0.018307  0.277838 -0.110474  0.066928  0.128539   \n",
      "1  0.085102 -0.255425  ... -0.225775 -0.638672  0.101288 -0.339846  0.167170   \n",
      "2  0.247676 -1.514654  ...  0.247998  0.771679  0.909412 -0.689281 -0.327642   \n",
      "3  0.377436 -1.387024  ... -0.108300  0.005274 -0.190321 -1.175575  0.647376   \n",
      "4 -0.270533  0.817739  ... -0.009431  0.798278 -0.137458  0.141267 -0.206010   \n",
      "\n",
      "        V26       V27       V28  Amount  Class  \n",
      "0 -0.189115  0.133558 -0.021053  149.62      0  \n",
      "1  0.125895 -0.008983  0.014724    2.69      0  \n",
      "2 -0.139097 -0.055353 -0.059752  378.66      0  \n",
      "3 -0.221929  0.062723  0.061458  123.50      0  \n",
      "4  0.502292  0.219422  0.215153   69.99      0  \n",
      "\n",
      "[5 rows x 31 columns]\n"
     ]
    }
   ],
   "source": [
    "# load data from a csv file at location: ../sample-data/data.csv\n",
    "\n",
    "import pandas as pd\n",
    "\n",
    "# Specify the file path\n",
    "file_path = '../sample-data/data.csv'\n",
    "\n",
    "# Use pandas to read the CSV file\n",
    "data = pd.read_csv(file_path)\n",
    "\n",
    "# Print the first few rows of the DataFrame\n",
    "print(data.head())\n"
   ]
  },
  {
   "cell_type": "code",
   "execution_count": 2,
   "metadata": {},
   "outputs": [
    {
     "ename": "OperationalError",
     "evalue": "table some_data already exists",
     "output_type": "error",
     "traceback": [
      "\u001b[0;31m---------------------------------------------------------------------------\u001b[0m",
      "\u001b[0;31mOperationalError\u001b[0m                          Traceback (most recent call last)",
      "Cell \u001b[0;32mIn[2], line 28\u001b[0m\n\u001b[1;32m     25\u001b[0m create_table_query \u001b[38;5;241m+\u001b[39m\u001b[38;5;241m=\u001b[39m \u001b[38;5;124m\"\u001b[39m\u001b[38;5;124m)\u001b[39m\u001b[38;5;124m\"\u001b[39m\n\u001b[1;32m     27\u001b[0m \u001b[38;5;66;03m# Execute the CREATE TABLE query\u001b[39;00m\n\u001b[0;32m---> 28\u001b[0m \u001b[43mcursor\u001b[49m\u001b[38;5;241;43m.\u001b[39;49m\u001b[43mexecute\u001b[49m\u001b[43m(\u001b[49m\u001b[43mcreate_table_query\u001b[49m\u001b[43m)\u001b[49m\n",
      "\u001b[0;31mOperationalError\u001b[0m: table some_data already exists"
     ]
    }
   ],
   "source": [
    "# write a query to create a table in the database called some_data and load the data from the csv file into the table\n",
    "import sqlite3\n",
    "import pandas as pd\n",
    "\n",
    "# connect to the database\n",
    "conn = sqlite3.connect(\"somedata.db\")\n",
    "cursor = conn.cursor()\n",
    "\n",
    "# create a table named some_data with the same columns as the csv file\n",
    "# Get the column names and data types from the DataFrame\n",
    "column_names = data.columns.tolist()\n",
    "data_types = data.dtypes.tolist()\n",
    "\n",
    "# Create the CREATE TABLE statement\n",
    "create_table_query = \"CREATE TABLE some_data (\"\n",
    "\n",
    "# Iterate over the column names and data types to create the table schema\n",
    "for column_name, data_type in zip(column_names, data_types):\n",
    "    create_table_query += f\"{column_name} {data_type},\"\n",
    "\n",
    "# Remove the trailing comma\n",
    "create_table_query = create_table_query.rstrip(\",\")\n",
    "\n",
    "# Add the closing parenthesis\n",
    "create_table_query += \")\"\n",
    "\n",
    "# Execute the CREATE TABLE query\n",
    "cursor.execute(create_table_query)\n"
   ]
  },
  {
   "cell_type": "code",
   "execution_count": null,
   "metadata": {},
   "outputs": [],
   "source": [
    "# Execute the PRAGMA statement to get the column information\n",
    "cursor.execute(\"PRAGMA table_info(some_data)\")\n",
    "\n",
    "# Fetch all the rows returned by the query\n",
    "rows = cursor.fetchall()\n",
    "\n",
    "# Extract the column names from the rows\n",
    "column_headers = [row[1] for row in rows]\n",
    "\n",
    "# Print the column headers\n",
    "print(column_headers)\n"
   ]
  },
  {
   "cell_type": "code",
   "execution_count": null,
   "metadata": {},
   "outputs": [],
   "source": [
    "# Read the rows from the CSV file\n",
    "data = pd.read_csv(file_path)\n",
    "\n",
    "# Write the rows to the SQLite database\n",
    "data.to_sql('some_data', conn, if_exists='replace', index=False)\n"
   ]
  },
  {
   "cell_type": "code",
   "execution_count": null,
   "metadata": {},
   "outputs": [],
   "source": [
    "# Count the number of rows in the CSV file\n",
    "csv_row_count = len(data)\n",
    "\n",
    "# Execute a query to count the number of rows in the SQL table\n",
    "cursor.execute(\"SELECT COUNT(*) FROM some_data\")\n",
    "sql_row_count = cursor.fetchone()[0]\n",
    "\n",
    "# Validate the congruency of the row counts\n",
    "if csv_row_count == sql_row_count:\n",
    "    print(\"The number of rows in the CSV file and SQL table are congruent.\")\n",
    "else:\n",
    "    print(\"The number of rows in the CSV file and SQL table are not congruent.\")\n"
   ]
  },
  {
   "cell_type": "code",
   "execution_count": null,
   "metadata": {},
   "outputs": [],
   "source": [
    "csv_row_count = len(data)\n",
    "print(\"The number of rows in the CSV file is:\", csv_row_count)\n"
   ]
  },
  {
   "cell_type": "code",
   "execution_count": null,
   "metadata": {},
   "outputs": [],
   "source": [
    "# Execute a query to count the number of rows in the SQL table\n",
    "cursor.execute(\"SELECT COUNT(*) FROM some_data\")\n",
    "\n",
    "# Fetch the result\n",
    "row_count = cursor.fetchone()[0]\n",
    "\n",
    "# Print the number of rows\n",
    "print(\"The number of rows in the SQLite database is:\", row_count)\n"
   ]
  },
  {
   "cell_type": "code",
   "execution_count": null,
   "metadata": {},
   "outputs": [],
   "source": [
    "%pip install pyodbc\n",
    "%pip install python-dotenv\n"
   ]
  },
  {
   "cell_type": "code",
   "execution_count": 3,
   "metadata": {},
   "outputs": [
    {
     "name": "stdout",
     "output_type": "stream",
     "text": [
      "DRIVER={ODBC Driver 18 for SQL Server};SERVER=rkcopilotdatademo.database.windows.net;DATABASE=creditcards;UID=gbbadmin;PWD=Liber-Tea\n"
     ]
    }
   ],
   "source": [
    "import pyodbc\n",
    "import os\n",
    "# load the environment variables from a .env file\n",
    "from dotenv import load_dotenv\n",
    "\n",
    "# Load the environment variables from the .env file\n",
    "load_dotenv()\n",
    "\n",
    "# Define the connection string\n",
    "server = os.getenv('server')\n",
    "database = os.getenv('database')\n",
    "username = os.getenv('username')\n",
    "password = os.getenv('password')\n",
    "driver = '{ODBC Driver 18 for SQL Server}'  # Use the appropriate driver for your system\n",
    "\n",
    "\n",
    "\n",
    "# Create the connection string\n",
    "conn_str = f\"DRIVER={driver};SERVER={server};DATABASE={database};UID={username};PWD={password}\"\n",
    "\n",
    "print(conn_str)"
   ]
  },
  {
   "cell_type": "code",
   "execution_count": 4,
   "metadata": {},
   "outputs": [
    {
     "ename": "ProgrammingError",
     "evalue": "('42S01', \"[42S01] [Microsoft][ODBC Driver 18 for SQL Server][SQL Server]There is already an object named 'some_data' in the database. (2714) (SQLExecDirectW)\")",
     "output_type": "error",
     "traceback": [
      "\u001b[0;31m---------------------------------------------------------------------------\u001b[0m",
      "\u001b[0;31mProgrammingError\u001b[0m                          Traceback (most recent call last)",
      "Cell \u001b[0;32mIn[4], line 63\u001b[0m\n\u001b[1;32m     60\u001b[0m create_table_query \u001b[38;5;241m+\u001b[39m\u001b[38;5;241m=\u001b[39m \u001b[38;5;124m\"\u001b[39m\u001b[38;5;124m)\u001b[39m\u001b[38;5;124m\"\u001b[39m\n\u001b[1;32m     62\u001b[0m \u001b[38;5;66;03m# Execute the CREATE TABLE statement\u001b[39;00m\n\u001b[0;32m---> 63\u001b[0m \u001b[43mazure_cursor\u001b[49m\u001b[38;5;241;43m.\u001b[39;49m\u001b[43mexecute\u001b[49m\u001b[43m(\u001b[49m\u001b[43mcreate_table_query\u001b[49m\u001b[43m)\u001b[49m\n\u001b[1;32m     65\u001b[0m \u001b[38;5;66;03m# Commit the transaction\u001b[39;00m\n\u001b[1;32m     66\u001b[0m azure_conn\u001b[38;5;241m.\u001b[39mcommit()\n",
      "\u001b[0;31mProgrammingError\u001b[0m: ('42S01', \"[42S01] [Microsoft][ODBC Driver 18 for SQL Server][SQL Server]There is already an object named 'some_data' in the database. (2714) (SQLExecDirectW)\")"
     ]
    }
   ],
   "source": [
    "import pyodbc\n",
    "\n",
    "# Define the Azure SQL Database connection string\n",
    "azure_conn_str = conn_str\n",
    "\n",
    "# Create a connection to the Azure SQL Database\n",
    "azure_conn = pyodbc.connect(azure_conn_str)\n",
    "azure_cursor = azure_conn.cursor()\n",
    "\n",
    "# Define the table name and schema\n",
    "table_name = 'some_data'\n",
    "schema_name = 'dbo'\n",
    "\n",
    "# Define the column mappings between SQLite and Azure SQL data types\n",
    "column_mappings = {\n",
    "    'Time': 'FLOAT',\n",
    "    'V1': 'FLOAT',\n",
    "    'V2': 'FLOAT',\n",
    "    'V3': 'FLOAT',\n",
    "    'V4': 'FLOAT',\n",
    "    'V5': 'FLOAT',\n",
    "    'V6': 'FLOAT',\n",
    "    'V7': 'FLOAT',\n",
    "    'V8': 'FLOAT',\n",
    "    'V9': 'FLOAT',\n",
    "    'V10': 'FLOAT',\n",
    "    'V11': 'FLOAT',\n",
    "    'V12': 'FLOAT',\n",
    "    'V13': 'FLOAT',\n",
    "    'V14': 'FLOAT',\n",
    "    'V15': 'FLOAT',\n",
    "    'V16': 'FLOAT',\n",
    "    'V17': 'FLOAT',\n",
    "    'V18': 'FLOAT',\n",
    "    'V19': 'FLOAT',\n",
    "    'V20': 'FLOAT',\n",
    "    'V21': 'FLOAT',\n",
    "    'V22': 'FLOAT',\n",
    "    'V23': 'FLOAT',\n",
    "    'V24': 'FLOAT',\n",
    "    'V25': 'FLOAT',\n",
    "    'V26': 'FLOAT',\n",
    "    'V27': 'FLOAT',\n",
    "    'V28': 'FLOAT',\n",
    "    'Amount': 'FLOAT',\n",
    "    'Class': 'INT'\n",
    "}\n",
    "\n",
    "# Generate the CREATE TABLE statement\n",
    "create_table_query = f\"CREATE TABLE {schema_name}.{table_name} (\"\n",
    "\n",
    "# Iterate over the column mappings to generate the column definitions\n",
    "for column_name, data_type in column_mappings.items():\n",
    "    create_table_query += f\"{column_name} {data_type}, \"\n",
    "\n",
    "# Remove the trailing comma and space\n",
    "create_table_query = create_table_query.rstrip(', ')\n",
    "\n",
    "# Add the closing parenthesis\n",
    "create_table_query += \")\"\n",
    "\n",
    "# Execute the CREATE TABLE statement\n",
    "azure_cursor.execute(create_table_query)\n",
    "\n",
    "# Commit the transaction\n",
    "azure_conn.commit()\n",
    "\n",
    "# Close the cursor and connection\n",
    "azure_cursor.close()\n",
    "azure_conn.close()\n"
   ]
  },
  {
   "cell_type": "code",
   "execution_count": 5,
   "metadata": {},
   "outputs": [],
   "source": [
    "# copy the data from the sqlite database to the sql server database\n",
    "# Establish a connection to the SQLite database\n",
    "sqlite_conn = sqlite3.connect(\"somedata.db\")\n",
    "sqlite_cursor = sqlite_conn.cursor()\n",
    "\n",
    "# Establish a connection to the SQL Server database\n",
    "sql_server_conn = pyodbc.connect(conn_str)\n",
    "sql_server_cursor = sql_server_conn.cursor()\n",
    "\n",
    "# Execute a query to select all the rows from the SQLite table\n",
    "sqlite_cursor.execute(\"SELECT * FROM some_data\")\n",
    "\n",
    "# Fetch all the rows returned by the query\n",
    "rows = sqlite_cursor.fetchall()\n",
    "\n",
    "# Get the column names from the SQLite table\n",
    "column_names = [description[0] for description in sqlite_cursor.description]\n",
    "\n",
    "# Execute the INSERT query to insert the rows into the SQL Server table\n",
    "sql_server_cursor.executemany(\"INSERT INTO some_data VALUES (?, ?, ?, ?, ?, ?, ?, ?, ?, ?, ?, ?, ?, ?, ?, ?, ?, ?, ?, ?, ?, ?, ?, ?, ?, ?, ?, ?, ?, ?, ?)\", rows)\n",
    "\n",
    "# Commit the transaction\n",
    "sql_server_conn.commit()\n",
    "\n",
    "# Close the connections\n",
    "sqlite_conn.close()\n",
    "sql_server_conn.close()\n"
   ]
  },
  {
   "cell_type": "code",
   "execution_count": 6,
   "metadata": {},
   "outputs": [
    {
     "name": "stdout",
     "output_type": "stream",
     "text": [
      "Your public IP address is: 20.151.129.181\n"
     ]
    }
   ],
   "source": [
    "import requests\n",
    "\n",
    "# For Azure SQL DB Firewall settings - Allow the VM's public IP address\n",
    "\n",
    "# Make a GET request to the API\n",
    "response = requests.get('https://api.ipify.org?format=json')\n",
    "\n",
    "# Extract the IP address from the response\n",
    "ip_address = response.json()['ip']\n",
    "\n",
    "# Print the IP address\n",
    "print(\"Your public IP address is:\", ip_address)\n"
   ]
  }
 ],
 "metadata": {
  "kernelspec": {
   "display_name": "Python 3",
   "language": "python",
   "name": "python3"
  },
  "language_info": {
   "codemirror_mode": {
    "name": "ipython",
    "version": 3
   },
   "file_extension": ".py",
   "mimetype": "text/x-python",
   "name": "python",
   "nbconvert_exporter": "python",
   "pygments_lexer": "ipython3",
   "version": "3.10.12"
  }
 },
 "nbformat": 4,
 "nbformat_minor": 2
}
