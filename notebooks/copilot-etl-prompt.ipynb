{
 "cells": [
  {
   "cell_type": "code",
   "execution_count": 27,
   "metadata": {},
   "outputs": [
    {
     "name": "stdout",
     "output_type": "stream",
     "text": [
      "   Time        V1        V2        V3        V4        V5        V6        V7  \\\n",
      "0   0.0 -1.359807 -0.072781  2.536347  1.378155 -0.338321  0.462388  0.239599   \n",
      "1   0.0  1.191857  0.266151  0.166480  0.448154  0.060018 -0.082361 -0.078803   \n",
      "2   1.0 -1.358354 -1.340163  1.773209  0.379780 -0.503198  1.800499  0.791461   \n",
      "3   1.0 -0.966272 -0.185226  1.792993 -0.863291 -0.010309  1.247203  0.237609   \n",
      "4   2.0 -1.158233  0.877737  1.548718  0.403034 -0.407193  0.095921  0.592941   \n",
      "\n",
      "         V8        V9  ...       V21       V22       V23       V24       V25  \\\n",
      "0  0.098698  0.363787  ... -0.018307  0.277838 -0.110474  0.066928  0.128539   \n",
      "1  0.085102 -0.255425  ... -0.225775 -0.638672  0.101288 -0.339846  0.167170   \n",
      "2  0.247676 -1.514654  ...  0.247998  0.771679  0.909412 -0.689281 -0.327642   \n",
      "3  0.377436 -1.387024  ... -0.108300  0.005274 -0.190321 -1.175575  0.647376   \n",
      "4 -0.270533  0.817739  ... -0.009431  0.798278 -0.137458  0.141267 -0.206010   \n",
      "\n",
      "        V26       V27       V28  Amount  Class  \n",
      "0 -0.189115  0.133558 -0.021053  149.62      0  \n",
      "1  0.125895 -0.008983  0.014724    2.69      0  \n",
      "2 -0.139097 -0.055353 -0.059752  378.66      0  \n",
      "3 -0.221929  0.062723  0.061458  123.50      0  \n",
      "4  0.502292  0.219422  0.215153   69.99      0  \n",
      "\n",
      "[5 rows x 31 columns]\n"
     ]
    }
   ],
   "source": [
    "# load data from a csv file at location: ../sample-data/data.csv\n",
    "\n",
    "import pandas as pd\n",
    "\n",
    "# Specify the file path\n",
    "file_path = '../sample-data/data.csv'\n",
    "\n",
    "# Use pandas to read the CSV file\n",
    "data = pd.read_csv(file_path)\n",
    "\n",
    "# Print the first few rows of the DataFrame\n",
    "print(data.head())\n"
   ]
  },
  {
   "cell_type": "code",
   "execution_count": null,
   "metadata": {},
   "outputs": [
    {
     "data": {
      "text/plain": [
       "<sqlite3.Cursor at 0x7f5a7d5f2540>"
      ]
     },
     "execution_count": 28,
     "metadata": {},
     "output_type": "execute_result"
    }
   ],
   "source": [
    "# write a query to create a table in the database called some_data and load the data from the csv file into the table\n",
    "import sqlite3\n",
    "import pandas as pd\n",
    "\n",
    "# connect to the database\n",
    "conn = sqlite3.connect(\"somedata.db\")\n",
    "cursor = conn.cursor()\n",
    "\n",
    "# create a table named some_data with the same columns as the csv file\n",
    "# Get the column names and data types from the DataFrame\n",
    "column_names = data.columns.tolist()\n",
    "data_types = data.dtypes.tolist()\n",
    "\n",
    "# Create the CREATE TABLE statement\n",
    "create_table_query = \"CREATE TABLE some_data (\"\n",
    "\n",
    "# Iterate over the column names and data types to create the table schema\n",
    "for column_name, data_type in zip(column_names, data_types):\n",
    "    create_table_query += f\"{column_name} {data_type},\"\n",
    "\n",
    "# Remove the trailing comma\n",
    "create_table_query = create_table_query.rstrip(\",\")\n",
    "\n",
    "# Add the closing parenthesis\n",
    "create_table_query += \")\"\n",
    "\n",
    "# Execute the CREATE TABLE query\n",
    "cursor.execute(create_table_query)\n"
   ]
  },
  {
   "cell_type": "code",
   "execution_count": 37,
   "metadata": {},
   "outputs": [
    {
     "name": "stdout",
     "output_type": "stream",
     "text": [
      "['Time', 'V1', 'V2', 'V3', 'V4', 'V5', 'V6', 'V7', 'V8', 'V9', 'V10', 'V11', 'V12', 'V13', 'V14', 'V15', 'V16', 'V17', 'V18', 'V19', 'V20', 'V21', 'V22', 'V23', 'V24', 'V25', 'V26', 'V27', 'V28', 'Amount', 'Class']\n"
     ]
    }
   ],
   "source": [
    "# Execute the PRAGMA statement to get the column information\n",
    "cursor.execute(\"PRAGMA table_info(some_data)\")\n",
    "\n",
    "# Fetch all the rows returned by the query\n",
    "rows = cursor.fetchall()\n",
    "\n",
    "# Extract the column names from the rows\n",
    "column_headers = [row[1] for row in rows]\n",
    "\n",
    "# Print the column headers\n",
    "print(column_headers)\n"
   ]
  },
  {
   "cell_type": "code",
   "execution_count": 38,
   "metadata": {},
   "outputs": [
    {
     "data": {
      "text/plain": [
       "8000"
      ]
     },
     "execution_count": 38,
     "metadata": {},
     "output_type": "execute_result"
    }
   ],
   "source": [
    "# Read the rows from the CSV file\n",
    "data = pd.read_csv(file_path)\n",
    "\n",
    "# Write the rows to the SQLite database\n",
    "data.to_sql('some_data', conn, if_exists='replace', index=False)\n"
   ]
  },
  {
   "cell_type": "code",
   "execution_count": 39,
   "metadata": {},
   "outputs": [
    {
     "name": "stdout",
     "output_type": "stream",
     "text": [
      "The number of rows in the CSV file and SQL table are congruent.\n"
     ]
    }
   ],
   "source": [
    "# Count the number of rows in the CSV file\n",
    "csv_row_count = len(data)\n",
    "\n",
    "# Execute a query to count the number of rows in the SQL table\n",
    "cursor.execute(\"SELECT COUNT(*) FROM some_data\")\n",
    "sql_row_count = cursor.fetchone()[0]\n",
    "\n",
    "# Validate the congruency of the row counts\n",
    "if csv_row_count == sql_row_count:\n",
    "    print(\"The number of rows in the CSV file and SQL table are congruent.\")\n",
    "else:\n",
    "    print(\"The number of rows in the CSV file and SQL table are not congruent.\")\n"
   ]
  },
  {
   "cell_type": "code",
   "execution_count": 40,
   "metadata": {},
   "outputs": [
    {
     "name": "stdout",
     "output_type": "stream",
     "text": [
      "The number of rows in the CSV file is: 8000\n"
     ]
    }
   ],
   "source": [
    "csv_row_count = len(data)\n",
    "print(\"The number of rows in the CSV file is:\", csv_row_count)\n"
   ]
  },
  {
   "cell_type": "code",
   "execution_count": 41,
   "metadata": {},
   "outputs": [
    {
     "name": "stdout",
     "output_type": "stream",
     "text": [
      "The number of rows in the SQLite database is: 8000\n"
     ]
    }
   ],
   "source": [
    "# Execute a query to count the number of rows in the SQL table\n",
    "cursor.execute(\"SELECT COUNT(*) FROM some_data\")\n",
    "\n",
    "# Fetch the result\n",
    "row_count = cursor.fetchone()[0]\n",
    "\n",
    "# Print the number of rows\n",
    "print(\"The number of rows in the SQLite database is:\", row_count)\n"
   ]
  },
  {
   "cell_type": "code",
   "execution_count": 42,
   "metadata": {},
   "outputs": [
    {
     "name": "stdout",
     "output_type": "stream",
     "text": [
      "Defaulting to user installation because normal site-packages is not writeable\n",
      "Requirement already satisfied: pyodbc in /home/vscode/.local/lib/python3.11/site-packages (5.1.0)\n",
      "Note: you may need to restart the kernel to use updated packages.\n",
      "Defaulting to user installation because normal site-packages is not writeable\n",
      "Requirement already satisfied: python-dotenv in /home/vscode/.local/lib/python3.11/site-packages (1.0.1)\n",
      "Note: you may need to restart the kernel to use updated packages.\n"
     ]
    }
   ],
   "source": [
    "%pip install pyodbc\n",
    "%pip install python-dotenv\n"
   ]
  },
  {
   "cell_type": "code",
   "execution_count": 43,
   "metadata": {},
   "outputs": [],
   "source": [
    "import pyodbc\n",
    "import os\n",
    "\n",
    "# Define the connection string\n",
    "server = os.getenv('server')\n",
    "database = os.getenv('database')\n",
    "username = os.getenv('username')\n",
    "password = os.getenv('password')\n",
    "driver = '{ODBC Driver 17 for SQL Server}'  # Use the appropriate driver for your system\n",
    "\n",
    "# Create the connection string\n",
    "conn_str = f\"DRIVER={driver};SERVER={server};DATABASE={database};UID={username};PWD={password}\"\n"
   ]
  },
  {
   "cell_type": "code",
   "execution_count": 44,
   "metadata": {},
   "outputs": [
    {
     "ename": "OperationalError",
     "evalue": "('HYT00', '[HYT00] [Microsoft][ODBC Driver 17 for SQL Server]Login timeout expired (0) (SQLDriverConnect)')",
     "output_type": "error",
     "traceback": [
      "\u001b[0;31m---------------------------------------------------------------------------\u001b[0m",
      "\u001b[0;31mOperationalError\u001b[0m                          Traceback (most recent call last)",
      "Cell \u001b[0;32mIn[44], line 7\u001b[0m\n\u001b[1;32m      4\u001b[0m sqlite_cursor \u001b[38;5;241m=\u001b[39m sqlite_conn\u001b[38;5;241m.\u001b[39mcursor()\n\u001b[1;32m      6\u001b[0m \u001b[38;5;66;03m# Establish a connection to the SQL Server database\u001b[39;00m\n\u001b[0;32m----> 7\u001b[0m sql_server_conn \u001b[38;5;241m=\u001b[39m \u001b[43mpyodbc\u001b[49m\u001b[38;5;241;43m.\u001b[39;49m\u001b[43mconnect\u001b[49m\u001b[43m(\u001b[49m\u001b[43mconn_str\u001b[49m\u001b[43m)\u001b[49m\n\u001b[1;32m      8\u001b[0m sql_server_cursor \u001b[38;5;241m=\u001b[39m sql_server_conn\u001b[38;5;241m.\u001b[39mcursor()\n\u001b[1;32m     10\u001b[0m \u001b[38;5;66;03m# Execute a query to select all the rows from the SQLite table\u001b[39;00m\n",
      "\u001b[0;31mOperationalError\u001b[0m: ('HYT00', '[HYT00] [Microsoft][ODBC Driver 17 for SQL Server]Login timeout expired (0) (SQLDriverConnect)')"
     ]
    }
   ],
   "source": [
    "# copy the data from the sqlite database to the sql server database\n",
    "# Establish a connection to the SQLite database\n",
    "sqlite_conn = sqlite3.connect(\"somedata.db\")\n",
    "sqlite_cursor = sqlite_conn.cursor()\n",
    "\n",
    "# Establish a connection to the SQL Server database\n",
    "sql_server_conn = pyodbc.connect(conn_str)\n",
    "sql_server_cursor = sql_server_conn.cursor()\n",
    "\n",
    "# Execute a query to select all the rows from the SQLite table\n",
    "sqlite_cursor.execute(\"SELECT * FROM some_data\")\n",
    "\n",
    "# Fetch all the rows returned by the query\n",
    "rows = sqlite_cursor.fetchall()\n",
    "\n",
    "# Execute the INSERT query to insert the rows into the SQL Server table\n",
    "sql_server_cursor.executemany(\"INSERT INTO some_data VALUES (?, ?, ?, ?, ?, ?, ?, ?, ?, ?, ?, ?, ?, ?, ?, ?, ?, ?, ?, ?, ?, ?, ?, ?, ?, ?, ?, ?, ?, ?, ?)\", rows)\n",
    "\n",
    "# Commit the transaction\n",
    "sql_server_conn.commit()\n",
    "\n",
    "# Close the connections\n",
    "sqlite_conn.close()\n",
    "sql_server_conn.close()\n"
   ]
  },
  {
   "cell_type": "code",
   "execution_count": null,
   "metadata": {},
   "outputs": [
    {
     "name": "stdout",
     "output_type": "stream",
     "text": [
      "Your public IP address is: 40.87.55.113\n"
     ]
    }
   ],
   "source": [
    "import requests\n",
    "\n",
    "# Make a GET request to the API\n",
    "response = requests.get('https://api.ipify.org?format=json')\n",
    "\n",
    "# Extract the IP address from the response\n",
    "ip_address = response.json()['ip']\n",
    "\n",
    "# Print the IP address\n",
    "print(\"Your public IP address is:\", ip_address)\n"
   ]
  }
 ],
 "metadata": {
  "kernelspec": {
   "display_name": "Python 3",
   "language": "python",
   "name": "python3"
  },
  "language_info": {
   "codemirror_mode": {
    "name": "ipython",
    "version": 3
   },
   "file_extension": ".py",
   "mimetype": "text/x-python",
   "name": "python",
   "nbconvert_exporter": "python",
   "pygments_lexer": "ipython3",
   "version": "3.11.8"
  }
 },
 "nbformat": 4,
 "nbformat_minor": 2
}
